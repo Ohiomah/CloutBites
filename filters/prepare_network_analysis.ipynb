{
 "cells": [
  {
   "cell_type": "markdown",
   "metadata": {},
   "source": [
    "This notebook prepares important network related statistics for reference in the Final Report"
   ]
  },
  {
   "cell_type": "code",
   "execution_count": 8,
   "metadata": {},
   "outputs": [],
   "source": [
    "# required imports\n",
    "import os\n",
    "import glob\n",
    "import json\n",
    "import re\n",
    "from datetime import datetime\n",
    "import numpy as np\n",
    "import pandas as pd\n",
    "import matplotlib.pyplot as plt\n",
    "import seaborn as sns\n",
    "import networkx as nx\n",
    "\n",
    "# degree distributed power law fitting\n",
    "import powerlaw\n",
    "\n",
    "# community detection via louvain\n",
    "\n",
    "import community as community_louvain\n",
    "\n"
   ]
  },
  {
   "cell_type": "code",
   "execution_count": 9,
   "metadata": {},
   "outputs": [],
   "source": [
    "# matplotlib styling\n",
    "\n",
    "plt.style.use('ggplot') # classic, clean"
   ]
  },
  {
   "cell_type": "code",
   "execution_count": null,
   "metadata": {},
   "outputs": [
    {
     "name": "stdout",
     "output_type": "stream",
     "text": [
      "Mean difference (Instagram - Yelp): -0.25\n",
      "Standard deviation of the difference: 0.84\n",
      "Proportion where Instagram score is higher than Yelp rating: 25.9%\n",
      "Saved histogram as difference_histogram_instagram_minus_yelp.png.\n"
     ]
    }
   ],
   "source": [
    "# Research Question 1 - Correlation Between Yelp Ratings and Social Media\n",
    "\n",
    "# Goal: perform a statistical correlation analysis between Yelp ratings (from `merged_restaurants_final.csv`) and Instagram overall sentiment scores (from `IG_posts_with_sentiment.json`). We visualize the relationship using scatter plots and compute correlation coefficients. We also examine the distribution of both metrics, noting that Instagram overall scores tend to be lower relative to Yelp ratings.\n",
    "\n",
    "\n",
    "# Load data and compute correlations\n",
    "merged_restaurants = pd.read_csv(\"../outputs/merged_restaurants_final.csv\")\n",
    "yelp_ratings = merged_restaurants[\"rating\"].dropna().astype(float)\n",
    "\n",
    "with open(\"../outputs/IG_posts_with_sentiment.json\", \"r\", encoding=\"utf-8\") as f:\n",
    "    ig_posts = pd.DataFrame(json.load(f))\n",
    "    \n",
    "\n",
    "# Normalize restaurant names for merging.\n",
    "merged_restaurants[\"name_norm\"] = merged_restaurants[\"name\"].str.strip().str.lower()\n",
    "ig_posts[\"restaurantName_norm\"] = ig_posts[\"restaurantName\"].str.strip().str.lower()\n",
    "\n",
    "# Extract Instagram overall scores (ensure that each post has sentiment_analysis).\n",
    "ig_posts = ig_posts[ig_posts[\"sentiment_analysis\"].notnull()].copy()\n",
    "ig_posts[\"insta_score\"] = ig_posts[\"sentiment_analysis\"].apply(lambda x: float(x.get(\"overall_score\", np.nan)))\n",
    "\n",
    "# Merge based on lowercase restaurant name.\n",
    "merged_df = pd.merge(merged_restaurants, ig_posts, left_on=\"name_norm\", right_on=\"restaurantName_norm\", how=\"inner\")\n",
    "\n",
    "# Remove rows with missing ratings.\n",
    "merged_df = merged_df.dropna(subset=[\"rating\", \"insta_score\"])\n",
    "\n",
    "# Create a column for the difference between Yelp and Instagram.\n",
    "merged_df[\"difference\"] = merged_df[\"insta_score\"] - merged_df[\"rating\"]\n",
    "\n",
    "# Compute summary statistics.\n",
    "mean_diff = merged_df[\"difference\"].mean()\n",
    "std_diff = merged_df[\"difference\"].std()\n",
    "prop_insta_higher = (merged_df[\"insta_score\"] > merged_df[\"rating\"]).mean()\n",
    "print(f\"Mean difference (Instagram - Yelp): {mean_diff:.2f}\")\n",
    "print(f\"Standard deviation of the difference: {std_diff:.2f}\")\n",
    "print(f\"Proportion where Instagram score is higher than Yelp rating: {prop_insta_higher*100:.1f}%\")\n",
    "\n",
    "# Plot a histogram of differences.\n",
    "plt.figure(figsize=(8,6))\n",
    "sns.histplot(merged_df[\"difference\"], bins=20, kde=True, color=\"skyblue\", edgecolor=\"black\")\n",
    "plt.axvline(0, color=\"red\", linestyle=\"--\", label=\"No difference\")\n",
    "plt.xlabel(\"Difference (Instagram overall score - Yelp rating)\")\n",
    "plt.ylabel(\"Frequency\")\n",
    "plt.title(\"Histogram of Differences: Instagram vs Yelp Ratings\")\n",
    "plt.legend()\n",
    "plt.savefig(\"../images/difference_histogram_instagram_minus_yelp.png\", bbox_inches=\"tight\")\n",
    "plt.close()\n",
    "print(\"Saved histogram as difference_histogram_instagram_minus_yelp.png.\")\n",
    "\n",
    "# Generate a Bland-Altman plot.\n",
    "merged_df[\"mean_rating\"] = (merged_df[\"rating\"] + merged_df[\"insta_score\"]) / 2\n",
    "\n",
    "plt.figure(figsize=(8,6))\n",
    "plt.scatter(merged_df[\"mean_rating\"], merged_df[\"difference\"], alpha=0.6)\n",
    "plt.axhline(mean_diff, color=\"gray\", linestyle=\"--\", label=f\"Mean diff: {mean_diff:.2f}\")\n",
    "plt.axhline(mean_diff + 1.96*std_diff, color=\"red\", linestyle=\"--\", label=\"Upper 95% limit\")\n",
    "plt.axhline(mean_diff - 1.96*std_diff, color=\"red\", linestyle=\"--\", label=\"Lower 95% limit\")\n",
    "plt.xlabel(\"Mean of Yelp rating and Instagram overall score\")\n",
    "plt.ylabel(\"Difference (Instagram overall score - Yelp rating)\")\n",
    "plt.title(\"Bland-Altman Plot: Instagram vs Yelp Ratings\")\n",
    "plt.legend()\n",
    "plt.savefig(\"../images/bland_altman_instagram_minus_yelp.png\", bbox_inches=\"tight\")\n",
    "plt.close()\n"
   ]
  }
 ],
 "metadata": {
  "kernelspec": {
   "display_name": "Python 3",
   "language": "python",
   "name": "python3"
  },
  "language_info": {
   "codemirror_mode": {
    "name": "ipython",
    "version": 3
   },
   "file_extension": ".py",
   "mimetype": "text/x-python",
   "name": "python",
   "nbconvert_exporter": "python",
   "pygments_lexer": "ipython3",
   "version": "3.12.2"
  }
 },
 "nbformat": 4,
 "nbformat_minor": 2
}
