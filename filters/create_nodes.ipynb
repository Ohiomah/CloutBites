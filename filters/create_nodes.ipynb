{
 "cells": [
  {
   "cell_type": "markdown",
   "metadata": {},
   "source": [
    "For Gephi, there is a specific format for node and edge list\n",
    "\n",
    "CloutBites seeks to have an undirected network \n",
    "- nodes vs edges\n",
    "\n",
    "nodes -> restaurants sized by rating, colored by New York borough, reviewers sized by review score\n",
    "\n",
    "edges -> connections between reviewers and restaurants"
   ]
  },
  {
   "cell_type": "code",
   "execution_count": 1,
   "metadata": {},
   "outputs": [],
   "source": [
    "# necessary imports\n",
    "\n",
    "import pandas as pd\n",
    "import json\n",
    "from difflib import get_close_matches"
   ]
  },
  {
   "cell_type": "code",
   "execution_count": 4,
   "metadata": {},
   "outputs": [],
   "source": [
    "# we need merged restaurant data for the boroughs and rating count (in isolation)\n",
    "\n",
    "restaurant_data = pd.read_csv('../outputs/merged_restaurant_data.csv')\n",
    "\n",
    "# we also need the json review data\n",
    "with open('../outputs/filtered_reviews.json', 'r', encoding='utf-8') as f:\n",
    "    review_data = json.load(f)\n",
    "    \n"
   ]
  },
  {
   "cell_type": "code",
   "execution_count": 7,
   "metadata": {},
   "outputs": [],
   "source": [
    "# create restaurant nodes (left side of gephi bipartite graph)\n",
    "\n",
    "restaurant_names = {entry['title'] for entry in review_data if entry['title']}\n",
    "\n",
    "# take the ones from the larger merged_restaurants file\n",
    "\n",
    "filtered_restaurants = restaurant_data[restaurant_data['name'].apply(lambda x: bool(get_close_matches(x, restaurant_names, n = 1, cutoff=0.6)))]\n",
    "\n",
    "# create reviewer nodes\n",
    "reviewers = {entry['name'] for entry in review_data if entry['name']}\n",
    "\n",
    "# gephi requires a CSV of nodes\n",
    "restaurant_nodes = filtered_restaurants.copy()\n",
    "restaurant_nodes['id'] =  \"R_\" + restaurant_nodes['name']\n",
    "restaurant_nodes['size'] = restaurant_nodes['rating'] # size is the rating\n",
    "restaurant_nodes['colour'] = restaurant_nodes[\"BOROUGH\"]\n",
    "restaurant_nodes = restaurant_nodes[['id', \"name\", 'size', 'colour']]\n",
    "\n",
    "reviewer_nodes = pd.DataFrame({\"id\": [\"U_\" + reviewer for reviewer in reviewers], \"name\": list(reviewers), \"size\": 1, \"colour\": \"grey\"})\n",
    "\n",
    "nodes = pd.concat([restaurant_nodes, reviewer_nodes], ignore_index=True)\n",
    "\n",
    "nodes.to_csv('../outputs/gephi_nodes.csv', index=False)\n",
    "\n",
    "# create edges\n",
    "\n",
    "edges = []\n",
    "for entry in review_data:\n",
    "    if entry['title'] and entry['name']:\n",
    "        restaurant_match = get_close_matches(entry['title'], restaurant_names, n = 1, cutoff=0.6)\n",
    "        if restaurant_match:\n",
    "            edges.append([\"U_\" + entry['name'], \"R_\" + restaurant_match[0], entry['score']])\n",
    "edges_df = pd.DataFrame(edges, columns = ['source', 'target', 'weight'])\n",
    "edges_df.to_csv('../outputs/gephi_edges.csv', index=False)\n",
    "\n"
   ]
  }
 ],
 "metadata": {
  "kernelspec": {
   "display_name": "Python 3",
   "language": "python",
   "name": "python3"
  },
  "language_info": {
   "codemirror_mode": {
    "name": "ipython",
    "version": 3
   },
   "file_extension": ".py",
   "mimetype": "text/x-python",
   "name": "python",
   "nbconvert_exporter": "python",
   "pygments_lexer": "ipython3",
   "version": "3.12.2"
  }
 },
 "nbformat": 4,
 "nbformat_minor": 2
}
