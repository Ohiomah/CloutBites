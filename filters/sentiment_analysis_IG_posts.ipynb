{
 "cells": [
  {
   "cell_type": "markdown",
   "metadata": {},
   "source": [
    "The main part of the data collection has been completed (for Instagram posts)\n",
    "\n",
    "What we have currently:\n",
    "\n",
    "1. IG_posts.json -> a collection of high quality Instagram posts scraped using keywords \"NYC foodie\", \"NYC restaurants\", \"New York Restaurants\"\n",
    "    - Many of these restaurants line up by name with those we collected from Yelp, this was checked manually\n",
    "    - Though we cannot guarantee the follower count of the influencers (instaloader was breaking), many of these met the threshold > 10,000 (on our initial attempt before Instaloader was rate limited)\n",
    "\n",
    "2. Merged_restaurants_final.csv -> contains a curated list of restaurants with their Yelp ratings and reviews\n",
    "\n",
    "3. We also collected some reviews from users on Google Places/Maps\n",
    "    - This is why we needed \"restaurant_names.txt\"\n",
    "    - We only kept reviews in filtered_reviews.json that matched existing names from Yelp data (same as Instagram), only the name in Google Maps scraping was not ambiguous\n"
   ]
  }
 ],
 "metadata": {
  "language_info": {
   "name": "python"
  }
 },
 "nbformat": 4,
 "nbformat_minor": 2
}
