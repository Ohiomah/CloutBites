{
 "cells": [
  {
   "cell_type": "markdown",
   "metadata": {},
   "source": [
    "All the sentiment has been stored in IG_posts_with_sentiment.json and the overall score has been made as an equal average of taste, presentation, and creativity scores. Field: \"overall_score\""
   ]
  },
  {
   "cell_type": "markdown",
   "metadata": {},
   "source": [
    "Now, create Gephi bipartite graph (.csv files compatible as nodes and edges in Gephi)"
   ]
  },
  {
   "cell_type": "code",
   "execution_count": null,
   "metadata": {},
   "outputs": [],
   "source": [
    "# All necessary imports\n",
    "\n",
    "import json\n",
    "import csv\n",
    "import pandas as pd"
   ]
  },
  {
   "cell_type": "code",
   "execution_count": 3,
   "metadata": {},
   "outputs": [],
   "source": [
    "# Load instagram posts\n",
    "\n",
    "with open('../outputs/IG_posts_with_sentiment.json', 'r', encoding='utf-8') as f:\n",
    "    posts = json.load(f)\n",
    "\n",
    "# grab the \"Yelp reviewed\" restaurants (merged_restaurants_final.csv)\n",
    "\n",
    "merged_restaurants = pd.read_csv('../outputs/merged_restaurants_final.csv')\n",
    "\n",
    "# only consider valid_posts -> that is, posts with ratingAvailable = True and restaurant in merged_restaurants\n",
    "valid_posts = [\n",
    "    post for post in posts\n",
    "    if post['ratingAvailable'] == True and post['restaurantName'] in merged_restaurants['name'].values\n",
    "]"
   ]
  },
  {
   "cell_type": "code",
   "execution_count": 5,
   "metadata": {},
   "outputs": [],
   "source": [
    "# Track influencers and restaurants\n",
    "\n",
    "influencer_restaurants = {}\n",
    "restaurant_influencers = {}\n",
    "\n",
    "# process all posts\n",
    "\n",
    "for post in valid_posts:\n",
    "    influencer = post['influencerUsername']\n",
    "    restaurant = post['restaurantName']\n",
    "    \n",
    "    # track restaurants for each influencer\n",
    "    if influencer not in influencer_restaurants:\n",
    "        influencer_restaurants[influencer] = set()\n",
    "    influencer_restaurants[influencer].add(restaurant)\n",
    "    \n",
    "    # track influencers for each restaurant\n",
    "    if restaurant not in restaurant_influencers:\n",
    "        restaurant_influencers[restaurant] = set()\n",
    "    restaurant_influencers[restaurant].add(influencer)\n"
   ]
  },
  {
   "cell_type": "code",
   "execution_count": null,
   "metadata": {},
   "outputs": [],
   "source": [
    "def write_gephi_files(connections, prefix):\n",
    "        # Nodes file\n",
    "        with open(f'{output_dir}/{prefix}_nodes.csv', 'w', newline='', encoding='utf-8') as f:\n",
    "            writer = csv.writer(f)\n",
    "            writer.writerow(['Id', 'Label', 'Type'])\n",
    "            for node in connections.keys():\n",
    "                writer.writerow([node, node, prefix])\n",
    "        \n",
    "        # Edges file\n",
    "        with open(f'{output_dir}/{prefix}_edges.csv', 'w', newline='', encoding='utf-8') as f:\n",
    "            writer = csv.writer(f)\n",
    "            writer.writerow(['Source', 'Target', 'Weight'])\n",
    "            \n",
    "            # Create edges between nodes that share connections\n",
    "            node_list = list(connections.keys())\n",
    "            for i in range(len(node_list)):\n",
    "                for j in range(i+1, len(node_list)):\n",
    "                    # Find common connections\n",
    "                    common_connections = len(\n",
    "                        connections[node_list[i]].intersection(connections[node_list[j]])\n",
    "                    )\n",
    "                    if common_connections > 0:\n",
    "                        writer.writerow([node_list[i], node_list[j], common_connections])\n",
    "\n"
   ]
  }
 ],
 "metadata": {
  "kernelspec": {
   "display_name": "Python 3",
   "language": "python",
   "name": "python3"
  },
  "language_info": {
   "codemirror_mode": {
    "name": "ipython",
    "version": 3
   },
   "file_extension": ".py",
   "mimetype": "text/x-python",
   "name": "python",
   "nbconvert_exporter": "python",
   "pygments_lexer": "ipython3",
   "version": "3.12.2"
  }
 },
 "nbformat": 4,
 "nbformat_minor": 2
}
